{
 "cells": [
  {
   "cell_type": "markdown",
   "metadata": {},
   "source": [
    "# Tutorial: Fairness-Aware Classification\n",
    "\n",
    "Fairlearn and AIF360 are the two most prominent Python toolkits for measuring and optimizing for fairness in machine learning. In this tutorial we will explore several post-processing techniques that can be used to advance fairness of a machine learning model.\n",
    "\n",
    "\n",
    "---\n",
    "\n",
    "**Learning Objectives**. After this tutorial you will be able to:\n",
    "* apply techniques for fairness-aware classification in Python;\n",
    "* examine strengths and limitations of different fairness-aware classification techniques;\n",
    "\n",
    "---\n",
    "\n",
    "As a running example, we will use the data set collected by Propublica in their analysis of COMPAS. COMPAS is a decision support tool used by courts in the United States to assess the likelihood of a defendant becoming a recidivist; i.e., relapses into criminal behavior. \n",
    "\n",
    "In this tutorial, we will focus on learning a new classifier for predicting recidivism that is optimized for **equalized odds**. This notion of fairness states that false positive rates (FPR) as well as false negatives rates (FNR) should be equal across groups, to avoid *quality-of-service harm*. In the context of pre-trial risk assessment, a false positive prediction can have large consequences for the involved defendant, as they may have to await trial in jail. This may even result in the defendant pleading guilty to a crime they did not commit. On the other extreme, false negatives could mean that dangerous individuals are released into society.\n",
    "\n",
    "\n",
    "\n",
    "--- \n",
    "\n",
    "\n",
    "**WARNING.** *The goal of this tutorial is to showcase technical approaches towards fairness-aware classification. However, we would like to emphasize that especially in a sensitive application such as pre-trial risk assesment, a data scientist's first actions should always include scrutinizing the need for machine learning, the machine learning task formulation, and data collection practices. Moreover, apart from fairness concerns, the accuracy of the models trained in this tutorial are only a bit better than random and they are likely not useful in practice.*"
   ]
  },
  {
   "cell_type": "code",
   "execution_count": 1,
   "metadata": {},
   "outputs": [
    {
     "name": "stderr",
     "output_type": "stream",
     "text": [
      "WARNING:root:No module named 'tensorflow': AdversarialDebiasing will be unavailable. To install, run:\n",
      "pip install 'aif360[AdversarialDebiasing]'\n"
     ]
    }
   ],
   "source": [
    "# data wrangling\n",
    "import pandas as pd\n",
    "import numpy as np\n",
    "\n",
    "# visualization\n",
    "import matplotlib.pyplot as plt\n",
    "\n",
    "#scikit-learn\n",
    "from sklearn.model_selection import train_test_split\n",
    "from sklearn.linear_model import LogisticRegression\n",
    "from sklearn.metrics import accuracy_score\n",
    "from sklearn.metrics import roc_curve\n",
    "\n",
    "# fairlearn\n",
    "from fairlearn.metrics import false_positive_rate, false_negative_rate\n",
    "from fairlearn.metrics import MetricFrame, equalized_odds_difference\n",
    "from fairlearn.postprocessing import ThresholdOptimizer\n",
    "from fairlearn.postprocessing import plot_threshold_optimizer\n",
    "\n",
    "# aif360\n",
    "from aif360.datasets import StandardDataset\n",
    "from aif360.algorithms.postprocessing import RejectOptionClassification"
   ]
  },
  {
   "cell_type": "code",
   "execution_count": 2,
   "metadata": {},
   "outputs": [],
   "source": [
    "def score(y_train, y_train_pred, y_test, y_test_pred, sensitive_features_train, sensitive_features_test, \n",
    "          metric = {'accuracy' : accuracy_score, 'fpr' : false_positive_rate, 'fnr' : false_negative_rate}):\n",
    "    \"\"\"\n",
    "    Helper function to evaluate classifiers without too much repetition of code.\n",
    "    \"\"\"\n",
    "    # train set\n",
    "    mf_train = MetricFrame(metric = metric, \n",
    "                           y_true = y_train,\n",
    "                           y_pred = y_train_pred, \n",
    "                           sensitive_features = sensitive_features_train)\n",
    "    \n",
    "    \n",
    "    # test set\n",
    "    mf_test = MetricFrame(metric = metric, \n",
    "                          y_true = y_test,\n",
    "                          y_pred = y_test_pred, \n",
    "                          sensitive_features = sensitive_features_test)\n",
    "    \n",
    "    mf = pd.concat([mf_train.by_group, mf_test.by_group], keys=['train', 'test']).unstack(level=0)\n",
    "    return mf"
   ]
  },
  {
   "cell_type": "markdown",
   "metadata": {},
   "source": [
    "### Load and Pre-Process Data\n",
    "\n",
    "You can download the data set collected by ProPublica [here](https://github.com/propublica/compas-analysis/blob/master/compas-scores-two-years.csv). As in the previous tutorial, we pre-process the data similar to ProPublica and focus our efforts on Caucasian and African-American defendants."
   ]
  },
  {
   "cell_type": "code",
   "execution_count": 3,
   "metadata": {},
   "outputs": [
    {
     "data": {
      "text/html": [
       "<div>\n",
       "<style scoped>\n",
       "    .dataframe tbody tr th:only-of-type {\n",
       "        vertical-align: middle;\n",
       "    }\n",
       "\n",
       "    .dataframe tbody tr th {\n",
       "        vertical-align: top;\n",
       "    }\n",
       "\n",
       "    .dataframe thead th {\n",
       "        text-align: right;\n",
       "    }\n",
       "</style>\n",
       "<table border=\"1\" class=\"dataframe\">\n",
       "  <thead>\n",
       "    <tr style=\"text-align: right;\">\n",
       "      <th></th>\n",
       "      <th>age</th>\n",
       "      <th>priors_count</th>\n",
       "      <th>juv_fel_count</th>\n",
       "      <th>juv_misd_count</th>\n",
       "      <th>juv_other_count</th>\n",
       "      <th>two_year_recid</th>\n",
       "      <th>sex_Male</th>\n",
       "      <th>race_Caucasian</th>\n",
       "    </tr>\n",
       "  </thead>\n",
       "  <tbody>\n",
       "    <tr>\n",
       "      <th>1</th>\n",
       "      <td>34</td>\n",
       "      <td>0</td>\n",
       "      <td>0</td>\n",
       "      <td>0</td>\n",
       "      <td>0</td>\n",
       "      <td>1</td>\n",
       "      <td>1</td>\n",
       "      <td>0</td>\n",
       "    </tr>\n",
       "    <tr>\n",
       "      <th>2</th>\n",
       "      <td>24</td>\n",
       "      <td>4</td>\n",
       "      <td>0</td>\n",
       "      <td>0</td>\n",
       "      <td>1</td>\n",
       "      <td>1</td>\n",
       "      <td>1</td>\n",
       "      <td>0</td>\n",
       "    </tr>\n",
       "    <tr>\n",
       "      <th>6</th>\n",
       "      <td>41</td>\n",
       "      <td>14</td>\n",
       "      <td>0</td>\n",
       "      <td>0</td>\n",
       "      <td>0</td>\n",
       "      <td>1</td>\n",
       "      <td>1</td>\n",
       "      <td>1</td>\n",
       "    </tr>\n",
       "    <tr>\n",
       "      <th>8</th>\n",
       "      <td>39</td>\n",
       "      <td>0</td>\n",
       "      <td>0</td>\n",
       "      <td>0</td>\n",
       "      <td>0</td>\n",
       "      <td>0</td>\n",
       "      <td>0</td>\n",
       "      <td>1</td>\n",
       "    </tr>\n",
       "    <tr>\n",
       "      <th>10</th>\n",
       "      <td>27</td>\n",
       "      <td>0</td>\n",
       "      <td>0</td>\n",
       "      <td>0</td>\n",
       "      <td>0</td>\n",
       "      <td>0</td>\n",
       "      <td>1</td>\n",
       "      <td>1</td>\n",
       "    </tr>\n",
       "  </tbody>\n",
       "</table>\n",
       "</div>"
      ],
      "text/plain": [
       "    age  priors_count  juv_fel_count  juv_misd_count  juv_other_count  \\\n",
       "1    34             0              0               0                0   \n",
       "2    24             4              0               0                1   \n",
       "6    41            14              0               0                0   \n",
       "8    39             0              0               0                0   \n",
       "10   27             0              0               0                0   \n",
       "\n",
       "    two_year_recid  sex_Male  race_Caucasian  \n",
       "1                1         1               0  \n",
       "2                1         1               0  \n",
       "6                1         1               1  \n",
       "8                0         0               1  \n",
       "10               0         1               1  "
      ]
     },
     "metadata": {},
     "output_type": "display_data"
    },
    {
     "name": "stdout",
     "output_type": "stream",
     "text": [
      "proportion of positives: 0.47\n"
     ]
    }
   ],
   "source": [
    "# load data\n",
    "df = pd.read_csv('compas-scores-two-years.csv')\n",
    "# filter similar to propublica\n",
    "df = df[(df['days_b_screening_arrest'] <= 30) &\n",
    "                (df['days_b_screening_arrest'] >= -30) &\n",
    "                (df['is_recid'] != -1) &\n",
    "                (df['c_charge_degree'] != \"O\") &\n",
    "                (df['score_text'] != \"N/A\")]\n",
    "# select two largest groups\n",
    "df = df[(df['race'] == 'African-American') | (df['race'] == 'Caucasian')]\n",
    "\n",
    "# select columns\n",
    "df = df[['sex', 'age', 'race', 'priors_count', 'juv_fel_count', 'juv_misd_count', 'juv_other_count', 'two_year_recid']]\n",
    "\n",
    "# convert categorical variables to numerical to make suitable for ML model\n",
    "df = pd.get_dummies(df, drop_first=True)\n",
    "\n",
    "#inspect\n",
    "display(df.head())\n",
    "\n",
    "# proportion of positives\n",
    "print(\"proportion of positives: %.2f\" % df['two_year_recid'].mean())"
   ]
  },
  {
   "cell_type": "markdown",
   "metadata": {},
   "source": [
    "The proportion of positives in the data set is almost 0.5, which means that the dataset is balanced in terms of positives/negatives. This makes **accuracy** a suitable metric for measuring the overall predictive performance of our models."
   ]
  },
  {
   "cell_type": "markdown",
   "metadata": {},
   "source": [
    "## Classification without Fairness Constraints\n",
    "\n",
    "First, let's train a simple logistic regression classifier on the data and see how it performs. We first split the data into a training and test set.\n",
    "\n",
    "**NOTE**. *If we were building a model to be put in production, we would encourage you to use a separate validation and test set. However, for the sake of simplicity, we only consider train and test set in this tutorial.*"
   ]
  },
  {
   "cell_type": "code",
   "execution_count": 4,
   "metadata": {},
   "outputs": [],
   "source": [
    "# define X and y\n",
    "X = df.drop('two_year_recid', axis=1)\n",
    "y = df['two_year_recid']\n",
    "\n",
    "# split the data in train-validation-test sets; use random_state for reproducibility of the results\n",
    "X_train, X_test, y_train, y_test = train_test_split(X, y, test_size=0.3, random_state=42)"
   ]
  },
  {
   "cell_type": "code",
   "execution_count": 5,
   "metadata": {},
   "outputs": [
    {
     "data": {
      "text/html": [
       "<div>\n",
       "<style scoped>\n",
       "    .dataframe tbody tr th:only-of-type {\n",
       "        vertical-align: middle;\n",
       "    }\n",
       "\n",
       "    .dataframe tbody tr th {\n",
       "        vertical-align: top;\n",
       "    }\n",
       "\n",
       "    .dataframe thead tr th {\n",
       "        text-align: left;\n",
       "    }\n",
       "\n",
       "    .dataframe thead tr:last-of-type th {\n",
       "        text-align: right;\n",
       "    }\n",
       "</style>\n",
       "<table border=\"1\" class=\"dataframe\">\n",
       "  <thead>\n",
       "    <tr>\n",
       "      <th></th>\n",
       "      <th colspan=\"2\" halign=\"left\">accuracy</th>\n",
       "      <th colspan=\"2\" halign=\"left\">fpr</th>\n",
       "      <th colspan=\"2\" halign=\"left\">fnr</th>\n",
       "    </tr>\n",
       "    <tr>\n",
       "      <th></th>\n",
       "      <th>train</th>\n",
       "      <th>test</th>\n",
       "      <th>train</th>\n",
       "      <th>test</th>\n",
       "      <th>train</th>\n",
       "      <th>test</th>\n",
       "    </tr>\n",
       "    <tr>\n",
       "      <th>race_Caucasian</th>\n",
       "      <th></th>\n",
       "      <th></th>\n",
       "      <th></th>\n",
       "      <th></th>\n",
       "      <th></th>\n",
       "      <th></th>\n",
       "    </tr>\n",
       "  </thead>\n",
       "  <tbody>\n",
       "    <tr>\n",
       "      <th>0</th>\n",
       "      <td>0.688547</td>\n",
       "      <td>0.682195</td>\n",
       "      <td>0.313462</td>\n",
       "      <td>0.28903</td>\n",
       "      <td>0.309666</td>\n",
       "      <td>0.345528</td>\n",
       "    </tr>\n",
       "    <tr>\n",
       "      <th>1</th>\n",
       "      <td>0.672727</td>\n",
       "      <td>0.674757</td>\n",
       "      <td>0.128035</td>\n",
       "      <td>0.104</td>\n",
       "      <td>0.639033</td>\n",
       "      <td>0.666667</td>\n",
       "    </tr>\n",
       "  </tbody>\n",
       "</table>\n",
       "</div>"
      ],
      "text/plain": [
       "                accuracy                 fpr                fnr          \n",
       "                   train      test     train     test     train      test\n",
       "race_Caucasian                                                           \n",
       "0               0.688547  0.682195  0.313462  0.28903  0.309666  0.345528\n",
       "1               0.672727  0.674757  0.128035    0.104  0.639033  0.666667"
      ]
     },
     "metadata": {},
     "output_type": "display_data"
    },
    {
     "name": "stdout",
     "output_type": "stream",
     "text": [
      "equalized odds (test): 0.32\n",
      "accuracy (test): 0.68\n"
     ]
    }
   ],
   "source": [
    "# train simple logistic regression model\n",
    "lr = LogisticRegression()\n",
    "lr.fit(X_train, y_train)\n",
    "\n",
    "# make predictions\n",
    "y_train_score_lr = lr.predict_proba(X_train)\n",
    "y_test_score_lr = lr.predict_proba(X_test)\n",
    "\n",
    "# make predictions at decision threshold of 0.5\n",
    "y_train_pred_lr = [1 if i[1] >= 0.5 else 0 for i in y_train_score_lr]\n",
    "y_test_pred_lr = [1 if i[1] >= 0.5 else 0 for i in y_test_score_lr]\n",
    "\n",
    "# score\n",
    "display(score(y_train, y_train_pred_lr, y_test, y_test_pred_lr, X_train['race_Caucasian'], X_test['race_Caucasian']))\n",
    "print('equalized odds (test): %.2f' % equalized_odds_difference(y_true=y_test, y_pred=y_test_pred_lr, \n",
    "                                                                sensitive_features=X_test['race_Caucasian']))\n",
    "print('accuracy (test): %.2f' % accuracy_score(y_true=y_test, y_pred=y_test_pred_lr))"
   ]
  },
  {
   "cell_type": "markdown",
   "metadata": {},
   "source": [
    "The test set accuracy of our classifier is approximately the same for African-Americans (0.68) and Caucasians (0.67). However, the FNR and FPR differ substantially, indicating that African-Americans are more often falsely predicted to recidivise, whereas Caucasians are more often falsely predicted to *not* recidivise. This disparity is reflected in the computed equalized odds difference (0.32).\n",
    "\n",
    "\n",
    "## Manual Post-Processing: Decision Threshold\n",
    "In our previous model, we have simply applied a standard decision threshold of 0.5 for both African-Americans and Caucasians. One way to account for differences in FPR and FNR is to choose a separate threshold for each sensitive group.\n",
    "\n",
    "We will now **manually** choose a new decision threshold for African-Americans to ensure that the FPR of African-Americans is equal to the FPR of Caucasians. In our previous model, the FPR in the training set is approximately 0.13 for Caucasians. We use this as our new target FPR for African-Americans. "
   ]
  },
  {
   "cell_type": "code",
   "execution_count": 6,
   "metadata": {},
   "outputs": [
    {
     "name": "stdout",
     "output_type": "stream",
     "text": [
      "New decision threshold for African-Americans: 0.62\n"
     ]
    }
   ],
   "source": [
    "# compute new threshold for African-Americans based on **training** data\n",
    "race_boolean_train = X_train['race_Caucasian'] == 0 # get boolean True : african-american, False : caucasian\n",
    "y_train_score_lr_A = [i[1] for i, j in zip(y_train_score_lr, race_boolean_train) if j] # get all scores for AA\n",
    "fpr_A_train, tpr_A_train, thresholds_A_train = roc_curve(y_true=y_train[race_boolean_train], y_score=y_train_score_lr_A)\n",
    "idx_new_thr = (np.abs(fpr_A_train - 0.13)).argmin() # get index of FPR closest to 0.1\n",
    "new_thr = thresholds_A_train[idx_new_thr] # get new threshold based on index\n",
    "\n",
    "print(\"New decision threshold for African-Americans: %.2f\" % new_thr)"
   ]
  },
  {
   "cell_type": "markdown",
   "metadata": {},
   "source": [
    "Based on the training data, we have computed that a decision threshold of 0.62 would lead to a FPR of approximately 0.13."
   ]
  },
  {
   "cell_type": "code",
   "execution_count": 7,
   "metadata": {},
   "outputs": [
    {
     "data": {
      "image/png": "[encoded data removed]",
      "text/plain": [
       "<Figure size 432x288 with 1 Axes>"
      ]
     },
     "metadata": {
      "needs_background": "light"
     },
     "output_type": "display_data"
    }
   ],
   "source": [
    "# Compute fpr, tpr, thresholds for **test** data\n",
    "race_boolean_test = X_test['race_Caucasian'] == 0 # get boolean True : african-american, False : caucasian\n",
    "# african-Americans\n",
    "y_test_score_lr_A = [i[1] for i, j in zip(y_test_score_lr, race_boolean_test) if j]\n",
    "fpr_A_test, tpr_A_test, thresholds_A_test = roc_curve(y_true=y_test[race_boolean_test], y_score=y_test_score_lr_A)\n",
    "idx_thr_A = (np.abs(thresholds_A_test - 0.5)).argmin() # get index of threshold closest to 0.5\n",
    "idx_thr_A_new = (np.abs(thresholds_A_test - new_thr)).argmin() # get index of threshold closest to new threshold\n",
    "# Caucasians\n",
    "y_test_score_lr_C = [i[1] for i, j in zip(y_test_score_lr, ~race_boolean_test) if j]\n",
    "fpr_C_test, tpr_C_test, thresholds_C_test = roc_curve(y_true=y_test[~race_boolean_test], y_score=y_test_score_lr_C)\n",
    "idx_thr_C = (np.abs(thresholds_C_test - 0.5)).argmin() # get index of threshold closest to 0.5\n",
    "\n",
    "# plot ROC curves\n",
    "plt.figure()\n",
    "plt.scatter(fpr_C_test[idx_thr_C], tpr_C_test[idx_thr_C], color='red', label = 'Threshold 0.50 (Caucasian)', s=75)\n",
    "plt.scatter(fpr_A_test[idx_thr_A], tpr_A_test[idx_thr_A], color='navy', label='Threshold 0.50 (African-American)', s=75)\n",
    "plt.plot(fpr_C_test, tpr_C_test, color='darkorange', label='Caucasians')\n",
    "plt.plot(fpr_A_test, tpr_A_test, color='navy', label='African-Americans')\n",
    "plt.scatter(fpr_A_test[idx_thr_A_new], tpr_A_test[idx_thr_A_new], color='green', \n",
    "            label='Threshold %.2f (African-American)' % new_thr,\n",
    "            marker='*', s=100, zorder=10)\n",
    "plt.plot([0, 1], [0, 1], color='black', linestyle='--')\n",
    "plt.xlim([0.0, 1.0])\n",
    "plt.ylim([0.0, 1.05])\n",
    "plt.xlabel('False Positive Rate')\n",
    "plt.ylabel('True Positive Rate')\n",
    "plt.title('ROC curve (test set)')\n",
    "plt.legend(loc=\"lower right\")\n",
    "plt.show()"
   ]
  },
  {
   "cell_type": "markdown",
   "metadata": {},
   "source": [
    "This plot visualizes the results of our manual selection approach on the test data. We have plotted the ROC curve for each racial group separately. The original decision threshold of 0.5 resulted in higher TPR and FPR for African-Americans. By choosing a different threshold for this group, we end up on a point on the ROC curve that is much closer to the FPR and TPR of Caucasians.\n",
    "\n",
    "Now let's evaluate the performance of the new decision threshold."
   ]
  },
  {
   "cell_type": "code",
   "execution_count": 8,
   "metadata": {},
   "outputs": [
    {
     "data": {
      "text/html": [
       "<div>\n",
       "<style scoped>\n",
       "    .dataframe tbody tr th:only-of-type {\n",
       "        vertical-align: middle;\n",
       "    }\n",
       "\n",
       "    .dataframe tbody tr th {\n",
       "        vertical-align: top;\n",
       "    }\n",
       "\n",
       "    .dataframe thead tr th {\n",
       "        text-align: left;\n",
       "    }\n",
       "\n",
       "    .dataframe thead tr:last-of-type th {\n",
       "        text-align: right;\n",
       "    }\n",
       "</style>\n",
       "<table border=\"1\" class=\"dataframe\">\n",
       "  <thead>\n",
       "    <tr>\n",
       "      <th></th>\n",
       "      <th colspan=\"2\" halign=\"left\">accuracy</th>\n",
       "      <th colspan=\"2\" halign=\"left\">fpr</th>\n",
       "      <th colspan=\"2\" halign=\"left\">fnr</th>\n",
       "    </tr>\n",
       "    <tr>\n",
       "      <th></th>\n",
       "      <th>train</th>\n",
       "      <th>test</th>\n",
       "      <th>train</th>\n",
       "      <th>test</th>\n",
       "      <th>train</th>\n",
       "      <th>test</th>\n",
       "    </tr>\n",
       "    <tr>\n",
       "      <th>race_Caucasian</th>\n",
       "      <th></th>\n",
       "      <th></th>\n",
       "      <th></th>\n",
       "      <th></th>\n",
       "      <th></th>\n",
       "      <th></th>\n",
       "    </tr>\n",
       "  </thead>\n",
       "  <tbody>\n",
       "    <tr>\n",
       "      <th>0</th>\n",
       "      <td>0.622454</td>\n",
       "      <td>0.632505</td>\n",
       "      <td>0.130769</td>\n",
       "      <td>0.111814</td>\n",
       "      <td>0.597092</td>\n",
       "      <td>0.613821</td>\n",
       "    </tr>\n",
       "    <tr>\n",
       "      <th>1</th>\n",
       "      <td>0.672727</td>\n",
       "      <td>0.674757</td>\n",
       "      <td>0.128035</td>\n",
       "      <td>0.104</td>\n",
       "      <td>0.639033</td>\n",
       "      <td>0.666667</td>\n",
       "    </tr>\n",
       "  </tbody>\n",
       "</table>\n",
       "</div>"
      ],
      "text/plain": [
       "                accuracy                 fpr                 fnr          \n",
       "                   train      test     train      test     train      test\n",
       "race_Caucasian                                                            \n",
       "0               0.622454  0.632505  0.130769  0.111814  0.597092  0.613821\n",
       "1               0.672727  0.674757  0.128035     0.104  0.639033  0.666667"
      ]
     },
     "metadata": {},
     "output_type": "display_data"
    },
    {
     "name": "stdout",
     "output_type": "stream",
     "text": [
      "equalized odds (test): 0.05\n",
      "accuracy (test): 0.65\n"
     ]
    }
   ],
   "source": [
    "# make new predictions at two separate decision thresholds\n",
    "y_train_pred_lr_m = [1 if ((score[1] >= 0.5 and not race) or \n",
    "                       score[1] >= new_thr and race) else 0 for score, race in zip(y_train_score_lr, race_boolean_train)]\n",
    "y_test_pred_lr_m = [1 if ((score[1] >= 0.5 and not race) or \n",
    "                       score[1] >= new_thr and race) else 0 for score, race in zip(y_test_score_lr, race_boolean_test)]\n",
    "\n",
    "# score\n",
    "display(score(y_train, y_train_pred_lr_m, y_test, y_test_pred_lr_m, X_train['race_Caucasian'], X_test['race_Caucasian']))\n",
    "print('equalized odds (test): %.2f' % equalized_odds_difference(y_true=y_test, y_pred=y_test_pred_lr_m, sensitive_features=X_test['race_Caucasian']))\n",
    "print('accuracy (test): %.2f' % accuracy_score(y_true=y_test, y_pred=y_test_pred_lr_m))"
   ]
  },
  {
   "cell_type": "markdown",
   "metadata": {},
   "source": [
    "As can be seen from this table, we have been able to substantially reduce equalized odds difference (decreased from 0.32 to 0.05), at the cost of some overall accuracy (decreased from 0.68 to 0.65)."
   ]
  },
  {
   "cell_type": "markdown",
   "metadata": {},
   "source": [
    "## Post-Processing Using Fairlearn's `ThresholdOptimizer`\n",
    "\n",
    "Another way to post-process predictions of an existing classifier, is by using the `ThresholdOptimizer`. Recall that randomization can be used to create a classifier with **any** predefined FPR/TPR that is either on the line between (0,0) and the classifier's FPR/TPR, or between (1,1) and the classifier's FPR/TPR. \n",
    "\n",
    "The `ThresholdOptimizer` algorithm leverages this by randomizing predictions independently for sensitive groups, such that the FPR/TPR is equal. The point on the ROC curve at which randomization is aimed, is optimized such that the disparity is the smallest, while accuracy is the highest.\n",
    "\n",
    "In Fairlearn, you can choose between optimizing for `'demographic_parity'`, `'equalized odds'`, `'false_positive_rate_parity'` `'false_negative_rate_parity'`, `'true_positive_parity'` and `'true_negative_parity'`. \n",
    "\n",
    "Let's see how this algorithm does on our existing logistic regression classifier. "
   ]
  },
  {
   "cell_type": "code",
   "execution_count": 9,
   "metadata": {},
   "outputs": [
    {
     "data": {
      "image/png": "[encoded data removed]",
      "text/plain": [
       "<Figure size 432x288 with 1 Axes>"
      ]
     },
     "metadata": {
      "needs_background": "light"
     },
     "output_type": "display_data"
    }
   ],
   "source": [
    "# train thresholdoptimizer\n",
    "to = ThresholdOptimizer(estimator=lr, constraints='equalized_odds')\n",
    "to.fit(X_train, y_train, sensitive_features=X_train['race_Caucasian'])\n",
    "\n",
    "# plot solution\n",
    "plot_threshold_optimizer(to)"
   ]
  },
  {
   "cell_type": "markdown",
   "metadata": {},
   "source": [
    "This plot visualizes the solution created by `ThresholdOptimizer`. Each line corresponds to all the possible points in the ROC space that can be achieved through randomization of predictions. Note that the \"kink\" in each curve corresponds to the ROC curve with a threshold of 0.5. The plotted lines are between these points and (0,0) and (1,1), and represent the space of possible solutions. "
   ]
  },
  {
   "cell_type": "code",
   "execution_count": 10,
   "metadata": {},
   "outputs": [
    {
     "data": {
      "text/html": [
       "<div>\n",
       "<style scoped>\n",
       "    .dataframe tbody tr th:only-of-type {\n",
       "        vertical-align: middle;\n",
       "    }\n",
       "\n",
       "    .dataframe tbody tr th {\n",
       "        vertical-align: top;\n",
       "    }\n",
       "\n",
       "    .dataframe thead tr th {\n",
       "        text-align: left;\n",
       "    }\n",
       "\n",
       "    .dataframe thead tr:last-of-type th {\n",
       "        text-align: right;\n",
       "    }\n",
       "</style>\n",
       "<table border=\"1\" class=\"dataframe\">\n",
       "  <thead>\n",
       "    <tr>\n",
       "      <th></th>\n",
       "      <th colspan=\"2\" halign=\"left\">accuracy</th>\n",
       "      <th colspan=\"2\" halign=\"left\">fpr</th>\n",
       "      <th colspan=\"2\" halign=\"left\">fnr</th>\n",
       "    </tr>\n",
       "    <tr>\n",
       "      <th></th>\n",
       "      <th>train</th>\n",
       "      <th>test</th>\n",
       "      <th>train</th>\n",
       "      <th>test</th>\n",
       "      <th>train</th>\n",
       "      <th>test</th>\n",
       "    </tr>\n",
       "    <tr>\n",
       "      <th>race_Caucasian</th>\n",
       "      <th></th>\n",
       "      <th></th>\n",
       "      <th></th>\n",
       "      <th></th>\n",
       "      <th></th>\n",
       "      <th></th>\n",
       "    </tr>\n",
       "  </thead>\n",
       "  <tbody>\n",
       "    <tr>\n",
       "      <th>0</th>\n",
       "      <td>0.597555</td>\n",
       "      <td>0.589027</td>\n",
       "      <td>0.179808</td>\n",
       "      <td>0.175105</td>\n",
       "      <td>0.600513</td>\n",
       "      <td>0.638211</td>\n",
       "    </tr>\n",
       "    <tr>\n",
       "      <th>1</th>\n",
       "      <td>0.647811</td>\n",
       "      <td>0.653722</td>\n",
       "      <td>0.188742</td>\n",
       "      <td>0.162667</td>\n",
       "      <td>0.607945</td>\n",
       "      <td>0.62963</td>\n",
       "    </tr>\n",
       "  </tbody>\n",
       "</table>\n",
       "</div>"
      ],
      "text/plain": [
       "                accuracy                 fpr                 fnr          \n",
       "                   train      test     train      test     train      test\n",
       "race_Caucasian                                                            \n",
       "0               0.597555  0.589027  0.179808  0.175105  0.600513  0.638211\n",
       "1               0.647811  0.653722  0.188742  0.162667  0.607945   0.62963"
      ]
     },
     "metadata": {},
     "output_type": "display_data"
    },
    {
     "name": "stdout",
     "output_type": "stream",
     "text": [
      "equalized odds (test): 0.01\n",
      "accuracy (test): 0.61\n"
     ]
    }
   ],
   "source": [
    "# evaluate\n",
    "y_train_pred_to = to.predict(X_train, sensitive_features=X_train['race_Caucasian'], random_state=0) # we use random_state for reproducible results \n",
    "y_test_pred_to = to.predict(X_test, sensitive_features=X_test['race_Caucasian'], random_state=0)\n",
    "display(score(y_train, y_train_pred_to, y_test, y_test_pred_to, X_train['race_Caucasian'], X_test['race_Caucasian']))\n",
    "print('equalized odds (test): %.2f' % equalized_odds_difference(y_true=y_test, y_pred=y_test_pred_to, \n",
    "                                                                sensitive_features=X_test['race_Caucasian']))\n",
    "print('accuracy (test): %.2f' % accuracy_score(y_true=y_test, y_pred=y_test_pred_to))"
   ]
  },
  {
   "cell_type": "markdown",
   "metadata": {},
   "source": [
    "The equalized odds difference is comparable to our manual decision threshold optimization, the accuracy is a bit lower (0.61). Compared to manual optimization of the threshold, the overall FPR is slightly higher whereas the FNR is lower."
   ]
  },
  {
   "cell_type": "markdown",
   "metadata": {},
   "source": [
    "## Post-Processing using AIF360's `RejectOptionClassification`\n",
    "\n",
    "Reject option classification is a post-processing technique that optimizes for fairness in regions for which the classifier is uncertain. The algorithm learns a decision threshold and a margin for that threshold. All instances for which the original classifier's confidence score falls outside of this margin are treated normally. For instances that fall within the decision threshold margin, the output is optimized for fairness.\n",
    "\n",
    "The algorithm is implemented in AIF360's `RejectOptionClassification` class.\n",
    "\n",
    "As opposed to Fairlearn, AIF360 requires users to process the dataset using the `StandardDataset` class."
   ]
  },
  {
   "cell_type": "code",
   "execution_count": 11,
   "metadata": {},
   "outputs": [],
   "source": [
    "# create training data object\n",
    "df_train = X_train.copy()\n",
    "df_train['two_year_recid'] = y_train\n",
    "dataset_train = StandardDataset(df = df_train, label_name='two_year_recid', favorable_classes=[1], \n",
    "                                # because we optimize for equalized odds favorable_classes this does not really matter, but for simplicity we just choose 1\n",
    "                                protected_attribute_names = ['race_Caucasian'], privileged_classes = [[1]])\n",
    "\n",
    "# create test dataset object\n",
    "df_test = X_test.copy()\n",
    "df_test['two_year_recid'] = y_test\n",
    "dataset_test = StandardDataset(df = df_test, label_name='two_year_recid', favorable_classes=[1], \n",
    "                                # because we optimize for equalized odds favorable_classes this does not really matter, but for simplicity we just choose 1\n",
    "                                protected_attribute_names = ['race_Caucasian'], privileged_classes = [[1]])\n",
    "\n",
    "# create training data prediction\n",
    "dataset_train_pred = dataset_train.copy(deepcopy=True)\n",
    "dataset_train_pred.scores = y_train_score_lr[:,1].reshape(-1,1)\n",
    "\n",
    "# create test data prediction\n",
    "dataset_test_pred = dataset_test.copy(deepcopy=True)\n",
    "dataset_test_pred.scores = y_test_score_lr[:,1].reshape(-1,1)"
   ]
  },
  {
   "cell_type": "code",
   "execution_count": 12,
   "metadata": {},
   "outputs": [
    {
     "name": "stdout",
     "output_type": "stream",
     "text": [
      "Classification Threshold: 0.86\n",
      "Margin: 0.01\n"
     ]
    }
   ],
   "source": [
    "# train reject option classifier\n",
    "rc = RejectOptionClassification(unprivileged_groups=[{'race_Caucasian' : 0}], \n",
    "                                privileged_groups=[{'race_Caucasian' : 1}],\n",
    "                                metric_name='Average odds difference')\n",
    "rc.fit(dataset_true=dataset_train, dataset_pred=dataset_train_pred)\n",
    "\n",
    "# print results\n",
    "print(\"Classification Threshold: %.2f\" % rc.classification_threshold)\n",
    "print(\"Margin: %.2f\" % rc.ROC_margin)"
   ]
  },
  {
   "cell_type": "code",
   "execution_count": 13,
   "metadata": {},
   "outputs": [
    {
     "data": {
      "text/html": [
       "<div>\n",
       "<style scoped>\n",
       "    .dataframe tbody tr th:only-of-type {\n",
       "        vertical-align: middle;\n",
       "    }\n",
       "\n",
       "    .dataframe tbody tr th {\n",
       "        vertical-align: top;\n",
       "    }\n",
       "\n",
       "    .dataframe thead tr th {\n",
       "        text-align: left;\n",
       "    }\n",
       "\n",
       "    .dataframe thead tr:last-of-type th {\n",
       "        text-align: right;\n",
       "    }\n",
       "</style>\n",
       "<table border=\"1\" class=\"dataframe\">\n",
       "  <thead>\n",
       "    <tr>\n",
       "      <th></th>\n",
       "      <th colspan=\"2\" halign=\"left\">accuracy</th>\n",
       "      <th colspan=\"2\" halign=\"left\">fpr</th>\n",
       "      <th colspan=\"2\" halign=\"left\">fnr</th>\n",
       "    </tr>\n",
       "    <tr>\n",
       "      <th></th>\n",
       "      <th>train</th>\n",
       "      <th>test</th>\n",
       "      <th>train</th>\n",
       "      <th>test</th>\n",
       "      <th>train</th>\n",
       "      <th>test</th>\n",
       "    </tr>\n",
       "    <tr>\n",
       "      <th>race_Caucasian</th>\n",
       "      <th></th>\n",
       "      <th></th>\n",
       "      <th></th>\n",
       "      <th></th>\n",
       "      <th></th>\n",
       "      <th></th>\n",
       "    </tr>\n",
       "  </thead>\n",
       "  <tbody>\n",
       "    <tr>\n",
       "      <th>0</th>\n",
       "      <td>0.516976</td>\n",
       "      <td>0.536232</td>\n",
       "      <td>0.0230769</td>\n",
       "      <td>0.0126582</td>\n",
       "      <td>0.892216</td>\n",
       "      <td>0.898374</td>\n",
       "    </tr>\n",
       "    <tr>\n",
       "      <th>1</th>\n",
       "      <td>0.622222</td>\n",
       "      <td>0.61165</td>\n",
       "      <td>0.00110375</td>\n",
       "      <td>0.00533333</td>\n",
       "      <td>0.967185</td>\n",
       "      <td>0.979424</td>\n",
       "    </tr>\n",
       "  </tbody>\n",
       "</table>\n",
       "</div>"
      ],
      "text/plain": [
       "                accuracy                   fpr                   fnr          \n",
       "                   train      test       train        test     train      test\n",
       "race_Caucasian                                                                \n",
       "0               0.516976  0.536232   0.0230769   0.0126582  0.892216  0.898374\n",
       "1               0.622222   0.61165  0.00110375  0.00533333  0.967185  0.979424"
      ]
     },
     "metadata": {},
     "output_type": "display_data"
    },
    {
     "name": "stdout",
     "output_type": "stream",
     "text": [
      "equalized odds (test): 0.08\n",
      "accuracy (test): 0.57\n"
     ]
    }
   ],
   "source": [
    "# evaluate classifier\n",
    "y_train_pred_rc = rc.predict(dataset_train_pred).labels \n",
    "y_test_pred_rc = rc.predict(dataset_test_pred).labels\n",
    "display(score(y_train, y_train_pred_rc, y_test, y_test_pred_rc, X_train['race_Caucasian'], X_test['race_Caucasian']))\n",
    "print('equalized odds (test): %.2f' % equalized_odds_difference(y_true=y_test, y_pred=y_test_pred_rc, sensitive_features=X_test['race_Caucasian']))\n",
    "print('accuracy (test): %.2f' % accuracy_score(y_true=y_test, y_pred=y_test_pred_rc))"
   ]
  },
  {
   "cell_type": "markdown",
   "metadata": {},
   "source": [
    "The reject option classifier has the lowest accuracy so far, 0.57. Notably, the false positive rate is close to zero for both Caucasians and African-Americans. This is easily explained by the high classification threshold of 0.86: a defendant is only classified as positive if the classifier is very certain, resulting in a low number of false positives. On the other hand, this policy results in a very high FNR."
   ]
  },
  {
   "cell_type": "markdown",
   "metadata": {},
   "source": [
    "## Concluding Remarks\n",
    "In this tutorial we have showcased several ways in which we can use post-processing to adhere to fairness constraints, either manually or by using one of the algorithms implemented in AIF360 or Fairlearn. \n",
    "\n",
    "#### Some Thoughts on the Libraries\n",
    "* **AIF360.** In this library, a vast amount of mitigation algorithms are implemented. However, the original API and it's dependence on the `Dataset` classes can be tricky to use. However, more recently, a scikit-learn compatible API (with currently limited functionality) has been added to the library as well. The documentation and examples on how to use the library are quite minimal.\n",
    "* **Fairlearn**. Fairlearn includes much fewer fairness mitigation algorithms than AIF360. The API is more flexible with respect to input data, making it a bit easier to use. The documentation and user guide are more extensive and there is a very active community.\n",
    "\n",
    "### Discussion Points\n",
    "* How does post-processing for equalized odds affects other notions of fairness, such as equal calibration and demographic parity? As an exercise, compute fairness metrics that represent alternative notions of (group) fairness. Can you explain the results?\n",
    "* In this tutorial, we only covered two post-processing algorithms. As an exercise, apply and evaluate one of the other in-processing or post-processing algorithms in either Fairlearn or AIF360. How well does it work?\n",
    "* Fairness pre-processing algorithms typically optimize for demographic parity, not for equalized odds or equal calibration. Can you explain why?\n",
    "* Our manual choice of the decision threshold uses a different decision threshold for African-Americans than for Caucasins. Under which circumstances would you deem such a policy fair, if any? Why?\n",
    "* The post-processing algorithm implemented in `ThresholdOptimizer` uses randomization in order to achieve equalized odds. Consequently, individuals with the exact same characteristics may receive a different prediction. Under which circumstances would you deem such a policy fair, if any? Why?\n"
   ]
  }
 ],
 "metadata": {
  "kernelspec": {
   "display_name": "Python 3",
   "language": "python",
   "name": "python3"
  },
  "language_info": {
   "codemirror_mode": {
    "name": "ipython",
    "version": 3
   },
   "file_extension": ".py",
   "mimetype": "text/x-python",
   "name": "python",
   "nbconvert_exporter": "python",
   "pygments_lexer": "ipython3",
   "version": "3.8.3"
  }
 },
 "nbformat": 4,
 "nbformat_minor": 4
}
